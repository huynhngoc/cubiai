{
 "cells": [
  {
   "cell_type": "code",
   "execution_count": 1,
   "metadata": {},
   "outputs": [],
   "source": [
    "import h5py\n",
    "import numpy as np\n",
    "import pandas as pd\n",
    "import sklearn.metrics\n",
    "import matplotlib.pyplot as plt\n",
    "import seaborn as sns\n",
    "from typing import Tuple"
   ]
  },
  {
   "cell_type": "markdown",
   "metadata": {},
   "source": [
    "### Proportion of normal and abnormal elbows in train"
   ]
  },
  {
   "cell_type": "code",
   "execution_count": 18,
   "metadata": {},
   "outputs": [
    {
     "name": "stdout",
     "output_type": "stream",
     "text": [
      "0                               1348\n",
      "1, artrose og-eller sklerose     794\n",
      "2, artrose                       463\n",
      "0 nye (lagt til 15.03.23)        368\n",
      "3, MCD                           340\n",
      "1, artrose                       223\n",
      "2, mistanke MCD                  198\n",
      "3, artrose                       190\n",
      "3, UAP                            43\n",
      "1, sklerose                       22\n",
      "3, OCD                            11\n",
      "Name: diagnosis_raw, dtype: int64\n"
     ]
    }
   ],
   "source": [
    "df_train = pd.read_excel('S:/Master/data/train_actual_data.xlsx')\n",
    "\n",
    "# print number of each value in diagnosis_raw\n",
    "print(df_train['diagnosis_raw'].value_counts())"
   ]
  },
  {
   "cell_type": "code",
   "execution_count": 21,
   "metadata": {},
   "outputs": [],
   "source": [
    "# Merge 0 and 0 nye (lagt til 15.03.23) together\n",
    "\n",
    "df_train['diagnosis_raw'] = df_train['diagnosis_raw'].apply(lambda x: '0' if '0' in str(x) else x)"
   ]
  },
  {
   "cell_type": "code",
   "execution_count": 22,
   "metadata": {},
   "outputs": [
    {
     "name": "stdout",
     "output_type": "stream",
     "text": [
      "0                               1716\n",
      "1, artrose og-eller sklerose     794\n",
      "2, artrose                       463\n",
      "3, MCD                           340\n",
      "1, artrose                       223\n",
      "2, mistanke MCD                  198\n",
      "3, artrose                       190\n",
      "3, UAP                            43\n",
      "1, sklerose                       22\n",
      "3, OCD                            11\n",
      "Name: diagnosis_raw, dtype: int64\n"
     ]
    }
   ],
   "source": [
    "print(df_train['diagnosis_raw'].value_counts())"
   ]
  },
  {
   "cell_type": "markdown",
   "metadata": {},
   "source": [
    "### Proportion of normal and abnormal elbows in validation"
   ]
  },
  {
   "cell_type": "code",
   "execution_count": 12,
   "metadata": {},
   "outputs": [
    {
     "name": "stdout",
     "output_type": "stream",
     "text": [
      "0                               409\n",
      "1, artrose og-eller sklerose    153\n",
      "2, artrose                      100\n",
      "0 nye (lagt til 15.03.23)        91\n",
      "3, MCD                           90\n",
      "2, mistanke MCD                  50\n",
      "3, artrose                       50\n",
      "1, artrose                       41\n",
      "3, UAP                           10\n",
      "3, OCD                            3\n",
      "1, sklerose                       3\n",
      "Name: diagnosis_raw, dtype: int64\n"
     ]
    }
   ],
   "source": [
    "df_val = pd.read_excel('S:/Master/data/val_data.xlsx')\n",
    "\n",
    "print(df_val['diagnosis_raw'].value_counts())"
   ]
  },
  {
   "cell_type": "code",
   "execution_count": 24,
   "metadata": {},
   "outputs": [
    {
     "name": "stdout",
     "output_type": "stream",
     "text": [
      "0                               500\n",
      "1, artrose og-eller sklerose    153\n",
      "2, artrose                      100\n",
      "3, MCD                           90\n",
      "2, mistanke MCD                  50\n",
      "3, artrose                       50\n",
      "1, artrose                       41\n",
      "3, UAP                           10\n",
      "3, OCD                            3\n",
      "1, sklerose                       3\n",
      "Name: diagnosis_raw, dtype: int64\n"
     ]
    }
   ],
   "source": [
    "# Merge 0 and 0 nye (lagt til 15.03.23) together\n",
    "\n",
    "df_val['diagnosis_raw'] = df_val['diagnosis_raw'].apply(lambda x: '0' if '0' in str(x) else x)\n",
    "\n",
    "print(df_val['diagnosis_raw'].value_counts())"
   ]
  },
  {
   "cell_type": "markdown",
   "metadata": {},
   "source": [
    "### Proportion of normal and abnormal elbows in test"
   ]
  },
  {
   "cell_type": "code",
   "execution_count": 13,
   "metadata": {},
   "outputs": [
    {
     "name": "stdout",
     "output_type": "stream",
     "text": [
      "0                               1270\n",
      "0 nye (lagt til 15.03.23)        713\n",
      "1, artrose og-eller sklerose      80\n",
      "2, artrose                        60\n",
      "3, MCD                            26\n",
      "3, artrose                        23\n",
      "1, artrose                        20\n",
      "2, mistanke MCD                   15\n",
      "3, UAP                            15\n",
      "3, OCD                             7\n",
      "Name: diagnosis_raw, dtype: int64\n"
     ]
    }
   ],
   "source": [
    "# Merge 0 and 0 nye (lagt til 15.03.23) together\n",
    "\n",
    "df_test = pd.read_excel('S:/Master/data/test_data.xlsx')\n",
    "\n",
    "print(df_test['diagnosis_raw'].value_counts())"
   ]
  },
  {
   "cell_type": "code",
   "execution_count": 25,
   "metadata": {},
   "outputs": [
    {
     "name": "stdout",
     "output_type": "stream",
     "text": [
      "0                               1983\n",
      "1, artrose og-eller sklerose      80\n",
      "2, artrose                        60\n",
      "3, MCD                            26\n",
      "3, artrose                        23\n",
      "1, artrose                        20\n",
      "2, mistanke MCD                   15\n",
      "3, UAP                            15\n",
      "3, OCD                             7\n",
      "Name: diagnosis_raw, dtype: int64\n"
     ]
    }
   ],
   "source": [
    "df_test['diagnosis_raw'] = df_test['diagnosis_raw'].apply(lambda x: '0' if '0' in str(x) else x)\n",
    "\n",
    "print(df_test['diagnosis_raw'].value_counts())"
   ]
  }
 ],
 "metadata": {
  "kernelspec": {
   "display_name": "dat450",
   "language": "python",
   "name": "python3"
  },
  "language_info": {
   "codemirror_mode": {
    "name": "ipython",
    "version": 3
   },
   "file_extension": ".py",
   "mimetype": "text/x-python",
   "name": "python",
   "nbconvert_exporter": "python",
   "pygments_lexer": "ipython3",
   "version": "3.7.16"
  }
 },
 "nbformat": 4,
 "nbformat_minor": 2
}
