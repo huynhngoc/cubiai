{
 "cells": [
  {
   "cell_type": "code",
   "execution_count": 5,
   "metadata": {},
   "outputs": [],
   "source": [
    "import h5py\n",
    "import pandas as pd"
   ]
  },
  {
   "cell_type": "code",
   "execution_count": 11,
   "metadata": {},
   "outputs": [
    {
     "name": "stdout",
     "output_type": "stream",
     "text": [
      "Exploring: patient_idx\n",
      " - Dataset shape: (246,), Type: float32\n",
      "\n",
      "Exploring: predicted\n",
      " - Dataset shape: (246, 3), Type: float32\n",
      "\n",
      "Exploring: y\n",
      " - Dataset shape: (246, 3), Type: float32\n",
      "\n"
     ]
    }
   ],
   "source": [
    "def explore_h5_file(file_path):\n",
    "    with h5py.File(file_path, 'r') as f:\n",
    "        def print_attrs(name, obj):\n",
    "            print(f\"Exploring: {name}\")\n",
    "            if isinstance(obj, h5py.Dataset):\n",
    "                print(f\" - Dataset shape: {obj.shape}, Type: {obj.dtype}\")\n",
    "                for attr_name, attr_value in obj.attrs.items():\n",
    "                    print(f\"   - Attribute: {attr_name}, Value: {attr_value}\")\n",
    "            elif isinstance(obj, h5py.Group):\n",
    "                print(f\" - Group\")\n",
    "                for attr_name, attr_value in obj.attrs.items():\n",
    "                    print(f\"   - Attribute: {attr_name}, Value: {attr_value}\")\n",
    "            print()\n",
    "\n",
    "        f.visititems(print_attrs)\n",
    "\n",
    "# Specify the path to your H5 file\n",
    "file_path = 'S:/Master/cubiai/h5_files/3_class/b4_0005_categorical_level/prediction_test.h5'\n",
    "explore_h5_file(file_path)"
   ]
  },
  {
   "cell_type": "code",
   "execution_count": 8,
   "metadata": {},
   "outputs": [],
   "source": [
    "# Open the H5 file for reading\n",
    "with h5py.File('S:/Master/cubiai/h5_files/3_class/b4_0005_categorical_level/prediction_test.h5', 'r') as f:\n",
    "    # Access each dataset and read the first 5 rows\n",
    "    patient_idx = f['patient_idx'][:]\n",
    "    predicted = f['predicted'][:]\n",
    "    y = f['y'][:]\n",
    "\n",
    "        # Create a DataFrame for each dataset for easier viewing\n",
    "    patient_idx_df = pd.DataFrame(patient_idx, columns=['patient_idx'])\n",
    "    predicted_df = pd.DataFrame(predicted, columns=['Level 1', 'Level 2', 'Level 3'])\n",
    "    y_df = pd.DataFrame(y, columns=['y_1', 'y_2', 'y_3'])\n",
    "\n",
    "    # Concatenate all DataFrames horizontally (side by side)\n",
    "    df = pd.concat([patient_idx_df, predicted_df, y_df], axis=1)"
   ]
  },
  {
   "cell_type": "code",
   "execution_count": 12,
   "metadata": {},
   "outputs": [],
   "source": [
    "df.to_csv('prediction_test.csv', index=False)"
   ]
  }
 ],
 "metadata": {
  "kernelspec": {
   "display_name": "dat450",
   "language": "python",
   "name": "python3"
  },
  "language_info": {
   "codemirror_mode": {
    "name": "ipython",
    "version": 3
   },
   "file_extension": ".py",
   "mimetype": "text/x-python",
   "name": "python",
   "nbconvert_exporter": "python",
   "pygments_lexer": "ipython3",
   "version": "3.7.16"
  }
 },
 "nbformat": 4,
 "nbformat_minor": 2
}
