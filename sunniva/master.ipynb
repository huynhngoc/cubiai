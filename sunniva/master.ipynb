{
 "cells": [
  {
   "cell_type": "code",
   "execution_count": 5,
   "metadata": {},
   "outputs": [],
   "source": [
    "from sklearn.datasets import load_iris, make_regression\n",
    "import pandas as pd\n",
    "import seaborn as sns\n",
    "import matplotlib.pyplot as plt\n",
    "import numpy as np\n",
    "from scipy import stats\n",
    "import random\n",
    "import os\n",
    "\n",
    "saved_cropped_images = '//nmbu.no/Research/Project/CubiAI/preprocess/cropped/'\n",
    "os.chdir(saved_cropped_images)"
   ]
  },
  {
   "cell_type": "code",
   "execution_count": 37,
   "metadata": {},
   "outputs": [
    {
     "name": "stdout",
     "output_type": "stream",
     "text": [
      "//nmbu.no/Research/Project/CubiAI/preprocess/cropped/0/\n",
      "//nmbu.no/Research/Project/CubiAI/preprocess/cropped/1, artrose og-eller sklerose/\n",
      "//nmbu.no/Research/Project/CubiAI/preprocess/cropped/2, artrose/\n",
      "//nmbu.no/Research/Project/CubiAI/preprocess/cropped/2, mistanke MCD/\n",
      "//nmbu.no/Research/Project/CubiAI/preprocess/cropped/3, artrose/\n",
      "//nmbu.no/Research/Project/CubiAI/preprocess/cropped/3, MCD/\n",
      "//nmbu.no/Research/Project/CubiAI/preprocess/cropped/3, OCD/\n",
      "//nmbu.no/Research/Project/CubiAI/preprocess/cropped/3, UAP/\n"
     ]
    }
   ],
   "source": [
    "df = pd.DataFrame(columns=['shape','ax0','ax1'])\n",
    "for folder in os.listdir():\n",
    "    # Check whether file is in text format or not\n",
    "    if not folder.endswith(\"old\"):\n",
    "        path = f\"{saved_cropped_images}{folder}/\"\n",
    "        os.chdir(path)\n",
    "        print(path)\n",
    "\n",
    "        for file in os.listdir():\n",
    "            filename = f\"{path}{file}\"\n",
    "            img = np.load(filename)\n",
    "            df.loc[len(df)]=[img.shape,img.shape[0],img.shape[1]]\n",
    "        os.chdir(saved_cropped_images)\n",
    "        "
   ]
  },
  {
   "cell_type": "code",
   "execution_count": 48,
   "metadata": {},
   "outputs": [
    {
     "name": "stdout",
     "output_type": "stream",
     "text": [
      "mean:  826.1538238702202 median:  785.0\n"
     ]
    },
    {
     "data": {
      "image/png": "[encoded data removed]",
      "text/plain": [
       "<Figure size 432x288 with 1 Axes>"
      ]
     },
     "metadata": {
      "needs_background": "light"
     },
     "output_type": "display_data"
    }
   ],
   "source": [
    "ds = df.copy()\n",
    "ds = ds[ds.ax0>100]\n",
    "sns.histplot(data=ds)\n",
    "plt.title('Size in each direction of all images')\n",
    "\n",
    "print('mean: ',np.mean(ds.ax0),\n",
    "'median: ',np.median(ds.ax0))"
   ]
  }
 ],
 "metadata": {
  "kernelspec": {
   "display_name": "Python 3",
   "language": "python",
   "name": "python3"
  },
  "language_info": {
   "codemirror_mode": {
    "name": "ipython",
    "version": 3
   },
   "file_extension": ".py",
   "mimetype": "text/x-python",
   "name": "python",
   "nbconvert_exporter": "python",
   "pygments_lexer": "ipython3",
   "version": "3.9.11"
  },
  "vscode": {
   "interpreter": {
    "hash": "9116387ce5c34140b7cbb539fe3e0cca8078d894b9b597eb5d824deb2c774509"
   }
  }
 },
 "nbformat": 4,
 "nbformat_minor": 2
}
