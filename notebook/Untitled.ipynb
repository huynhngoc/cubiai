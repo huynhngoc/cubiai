{
 "cells": [
  {
   "cell_type": "code",
   "execution_count": 1,
   "id": "c382437a",
   "metadata": {},
   "outputs": [
    {
     "data": {
      "text/plain": [
       "'C:\\\\Users\\\\sunnivas\\\\OneDrive - Norwegian University of Life Sciences\\\\Documents\\\\code\\\\cubiai\\\\notebook'"
      ]
     },
     "execution_count": 1,
     "metadata": {},
     "output_type": "execute_result"
    }
   ],
   "source": [
    "pwd"
   ]
  },
  {
   "cell_type": "code",
   "execution_count": null,
   "id": "06b26d4c",
   "metadata": {},
   "outputs": [],
   "source": [
    "import pydicom as dicom\n",
    "import matplotlib.pylab as plt\n",
    "\n",
    "# specify your image path\n",
    "image_path = 'data/train_images/sample.dcm'\n",
    "ds = dicom.dcmread(image_path)\n",
    "\n",
    "plt.imshow(ds.pixel_array)"
   ]
  }
 ],
 "metadata": {
  "kernelspec": {
   "display_name": "Python 3 (ipykernel)",
   "language": "python",
   "name": "python3"
  },
  "language_info": {
   "codemirror_mode": {
    "name": "ipython",
    "version": 3
   },
   "file_extension": ".py",
   "mimetype": "text/x-python",
   "name": "python",
   "nbconvert_exporter": "python",
   "pygments_lexer": "ipython3",
   "version": "3.9.12"
  }
 },
 "nbformat": 4,
 "nbformat_minor": 5
}
